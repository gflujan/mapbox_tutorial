{
 "cells": [
  {
   "cell_type": "code",
   "execution_count": 1,
   "metadata": {},
   "outputs": [],
   "source": [
    "import pydeck as pdk"
   ]
  },
  {
   "cell_type": "markdown",
   "metadata": {},
   "source": [
    "# A Brief Intro to pydeck\n",
    "\n",
    "The pydeck library uses deck.gl's JSON API to create deck.gl layers in Python.\n",
    "\n",
    "Deck.gl expects that the user passes a layer, an initial viewpoint, and a kind of map orientation are specified by the user. In this example below, we set the kind of layer we'd like (`HexagonLayer`) and a few other layer-specific parameters (e.g., `elevation_scale`, `elevation_range`) read from the documentation for deck.gl [HexagonLayer](https://github.com/uber/deck.gl/blob/master/docs/layers/hexagon-layer.md)."
   ]
  },
  {
   "cell_type": "code",
   "execution_count": 8,
   "metadata": {},
   "outputs": [
    {
     "data": {
      "application/vnd.jupyter.widget-view+json": {
       "model_id": "58e6b0b215354e008b1def081f9e1a7f",
       "version_major": 2,
       "version_minor": 0
      },
      "text/plain": [
       "RGVja0dMV2lkZ2V0KGpzb25faW5wdXQ9dSd7ImluaXRpYWxWaWV3U3RhdGUiOiB7ImJlYXJpbmciOiAtMjcuMzk2LCAibGF0aXR1ZGUiOiA1Mi4yMzIzLCAibG9uZ2l0dWRlIjogLTEuNDE1LCDigKY=\n"
      ]
     },
     "metadata": {},
     "output_type": "display_data"
    }
   ],
   "source": [
    "UK_ACCIDENTS_DATA = 'https://raw.githubusercontent.com/uber-common/deck.gl-data/master/examples/3d-heatmap/heatmap-data.csv'\n",
    "layer = pdk.Layer(\n",
    "    'HexagonLayer',                # Type of layer\n",
    "    UK_ACCIDENTS_DATA,             # URL for the data. Can also be a list of Python dictionaries.\n",
    "    elevation_scale=50,\n",
    "    elevation_range=[0, 3000],      # Layer-specific parameters: Range of hexagon bar height\n",
    "    extruded=True,                 \n",
    "    coverage=1)\n",
    "view_state = pdk.ViewState(\n",
    "    longitude=-1.415,\n",
    "    latitude=52.2323,\n",
    "    zoom=6.6,\n",
    "    min_zoom=5,\n",
    "    max_zoom=15,\n",
    "    pitch=40.5,\n",
    "    bearing=-27.396)\n",
    "r = pdk.Deck(layers=[layer], initial_view_state=view_state)\n",
    "r.show()"
   ]
  },
  {
   "cell_type": "markdown",
   "metadata": {},
   "source": [
    "We also specify light settings using `pdk.LightSettings` to get light angles relative to the HexagonLayer we'll create, and a `view_state` for our initial viewpoint. The `pdk.View` object in this case is set to a default [MapView](https://github.com/uber/deck.gl/blob/master/docs/api-reference/map-view.md), which behaves like many familiar web map interfaces. Finally, we combine all those object into one for plotting as a `pdk.Deck` object.\n",
    "\n",
    "`r.show()` renders the plot."
   ]
  },
  {
   "cell_type": "code",
   "execution_count": 4,
   "metadata": {},
   "outputs": [],
   "source": [
    "# Example from https://deck.gl/json\n",
    "layer = pdk.Layer(\n",
    "    'HexagonLayer',\n",
    "    'https://raw.githubusercontent.com/uber-common/deck.gl-data/master/examples/3d-heatmap/heatmap-data.csv',\n",
    "    elevation_scale=50,\n",
    "    elevation_range=[0, 3000],\n",
    "    extruded=True,\n",
    "    coverage=1)\n",
    "lights = pdk.LightSettings(\n",
    "    lights_position=[\n",
    "        -0.144528,\n",
    "        49.739968,\n",
    "        8000,\n",
    "        -3.807751,\n",
    "        54.104682,\n",
    "        10000],\n",
    "    ambient_ratio=0.7,\n",
    "    diffuse_ratio=0.6)\n",
    "layer.light_settings = lights\n",
    "view_state = pdk.ViewState(\n",
    "    longitude=-1.415,\n",
    "    latitude=52.2323,\n",
    "    zoom=6.6,\n",
    "    min_zoom=5,\n",
    "    max_zoom=15,\n",
    "    pitch=40.5,\n",
    "    bearing=-27.396)\n",
    "view = pdk.View('MapView', True)\n",
    "r = pdk.Deck(layers=[layer], initial_view_state=view_state, views=[view])"
   ]
  },
  {
   "cell_type": "code",
   "execution_count": 3,
   "metadata": {},
   "outputs": [
    {
     "data": {
      "application/vnd.jupyter.widget-view+json": {
       "model_id": "3eec866d519f42b3b24c05c7e57e673a",
       "version_major": 2,
       "version_minor": 0
      },
      "text/plain": [
       "RGVja0dMV2lkZ2V0KGpzb25faW5wdXQ9dSd7ImluaXRpYWxWaWV3U3RhdGUiOiB7ImJlYXJpbmciOiAtMjcuMzk2LCAibGF0aXR1ZGUiOiA1Mi4yMzIzLCAibG9uZ2l0dWRlIjogLTEuNDE1LCDigKY=\n"
      ]
     },
     "metadata": {},
     "output_type": "display_data"
    }
   ],
   "source": [
    "r.show()"
   ]
  }
 ],
 "metadata": {
  "kernelspec": {
   "display_name": "Python 2",
   "language": "python",
   "name": "python2"
  },
  "language_info": {
   "codemirror_mode": {
    "name": "ipython",
    "version": 2
   },
   "file_extension": ".py",
   "mimetype": "text/x-python",
   "name": "python",
   "nbconvert_exporter": "python",
   "pygments_lexer": "ipython2",
   "version": "2.7.16"
  }
 },
 "nbformat": 4,
 "nbformat_minor": 2
}
